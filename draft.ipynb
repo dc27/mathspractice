{
 "cells": [
  {
   "cell_type": "code",
   "execution_count": 72,
   "metadata": {},
   "outputs": [],
   "source": [
    "import random\n",
    "import numpy as np\n",
    "import pandas as pd"
   ]
  },
  {
   "cell_type": "code",
   "execution_count": 73,
   "metadata": {},
   "outputs": [],
   "source": [
    "def make_vals():\n",
    "    values = np.random.random((3,1))\n",
    "    return (values*100).round(2)"
   ]
  },
  {
   "cell_type": "code",
   "execution_count": 74,
   "metadata": {},
   "outputs": [],
   "source": [
    "def make_Frame(rows, columns):\n",
    "    frames = []\n",
    "    for x in range(len(columns)):\n",
    "        frame = pd.DataFrame(make_vals(), columns=[columns[x].title()], index = [rows[j].upper() for j in range(len(rows))])\n",
    "        frames.append(frame)\n",
    "\n",
    "    result = pd.concat(frames, axis = 1)\n",
    "    df = result.reindex(sorted(result.columns), axis=1)\n",
    "    return df"
   ]
  },
  {
   "cell_type": "code",
   "execution_count": 75,
   "metadata": {},
   "outputs": [],
   "source": [
    "def TOTAL(df, person):\n",
    "    return sum(df[person])"
   ]
  },
  {
   "cell_type": "code",
   "execution_count": 76,
   "metadata": {},
   "outputs": [],
   "source": [
    "def TOTAL_SAVINGS(df, person):\n",
    "    return df[person][\"SAVINGS\"] + df [person][\"LISA\"]"
   ]
  },
  {
   "cell_type": "code",
   "execution_count": 119,
   "metadata": {},
   "outputs": [],
   "source": [
    "def SAVINGS_GOAL(df, goal, person):\n",
    "    return (((goal/100)) * sum(df[person])) < TOTAL_SAVINGS(df, person)    "
   ]
  },
  {
   "cell_type": "code",
   "execution_count": 120,
   "metadata": {},
   "outputs": [],
   "source": [
    "def AVG_SAVINGS(df):\n",
    "    return df.mean(1)[1]"
   ]
  },
  {
   "cell_type": "code",
   "execution_count": 151,
   "metadata": {},
   "outputs": [],
   "source": [
    "def makeChoice(choice, person1, person2, dataframe):\n",
    "    if choice == 1:\n",
    "        result = TOTAL(dataframe, person1.title())\n",
    "        result = round(result,2)\n",
    "        return \"total\", result\n",
    "    elif choice == 2:\n",
    "        result = TOTAL_SAVINGS(dataframe, person1.title())\n",
    "        result = round(result,2)\n",
    "        return \"savings total\", result\n",
    "    elif choice ==3:\n",
    "        result = TOTAL(dataframe, person1.title()) - TOTAL(dataframe, person2.title())\n",
    "        result = round(result,2)\n",
    "        return [\"difference\", result]\n",
    "    elif choice == 4:\n",
    "        result = TOTAL_SAVINGS(dataframe, person1.title()) - TOTAL_SAVINGS(dataframe, person2.title())\n",
    "        result = round(result,2)\n",
    "        return [\"savings difference\", result]\n",
    "    elif choice == 5:\n",
    "        result = AVG_SAVINGS(dataframe)\n",
    "        result = round(result, 2)\n",
    "        return \"average\", result\n",
    "    elif choice == 6:\n",
    "        goal = random.choice(list(range(35,100,5)))\n",
    "        if SAVINGS_GOAL(dataframe, goal, person1.title()):\n",
    "            return \"savings goal\", True, goal\n",
    "        else:\n",
    "            return \"savings goal\", False, goal"
   ]
  },
  {
   "cell_type": "code",
   "execution_count": 162,
   "metadata": {},
   "outputs": [],
   "source": [
    "def reset_randoms():\n",
    "    names = [\"sasha\", \"alice\", \"tilly\", \"david\", \"molly\", \"callum\"]\n",
    "    accounts = [\"current\", \"savings\", \"lisa\"]\n",
    "    df = make_Frame(accounts, names)\n",
    "    display(df.style.format(\"£{:}\"))\n",
    "    lst = names[:]\n",
    "    random.shuffle(lst)\n",
    "    person1 = lst.pop(0)\n",
    "    person2 = lst.pop(0)\n",
    "    action = makeChoice((random.choice(list(range(6,7)))),\n",
    "                        person1,\n",
    "                        person2,\n",
    "                        df)\n",
    "    answer = action[1]\n",
    "\n",
    "    if action[0] == \"total\" or action[0] == \"savings total\":\n",
    "        message = f\"How much money does {person1.title()} have in\"\n",
    "        if action[0] == \"total\":\n",
    "            message += \" all of their accounts?\"\n",
    "        else:\n",
    "            message += \" their savings accounts?\"\n",
    "    elif action[0] == \"difference\" or action[0] ==\"savings difference\":\n",
    "        message = \"How much more money does \"\n",
    "        if action[1] > 0:\n",
    "            message += f\"{person1.title()} have than {person2.title()} \"\n",
    "        else:\n",
    "            message += f\"{person2.title()} have than {person1.title()} \"\n",
    "            \n",
    "            answer*= -1\n",
    "        if action[0] == \"difference\":\n",
    "            message += \"across all of their accounts?\"\n",
    "        else:\n",
    "            message += \"across their savings accounts?\"\n",
    "    elif action[0] ==\"average\":\n",
    "        message = f\"What is the average amount an account holder has in savings?\"\n",
    "    elif action[0] ==\"savings goal\":\n",
    "        message = f\"Has {person1.title()} reached their savings goal? They wanted to have {action[2]}% of their total funds held in their savings accounts.\"\n",
    "        \n",
    "    if action[0] !=\"savings goal\":\n",
    "        message+= \"\\n£\"\n",
    "        userin = float(input(message))\n",
    "    else:\n",
    "        message += \"\\nTrue or False\\n\"   \n",
    "        userin = (input(message))\n",
    "        if userin == \"True\":\n",
    "            userin = True\n",
    "        elif userin == \"False\":\n",
    "            userin = False\n",
    "    \n",
    "    if userin == answer:\n",
    "        print(\"Correct. Well done\")\n",
    "    else:\n",
    "        print(f\"That's not correct, it was: £{answer}\")"
   ]
  },
  {
   "cell_type": "code",
   "execution_count": 163,
   "metadata": {},
   "outputs": [
    {
     "data": {
      "text/html": [
       "<style  type=\"text/css\" >\n",
       "</style><table id=\"T_36797ffa_fcc5_11ea_acb7_54137993f690\" ><thead>    <tr>        <th class=\"blank level0\" ></th>        <th class=\"col_heading level0 col0\" >Alice</th>        <th class=\"col_heading level0 col1\" >Callum</th>        <th class=\"col_heading level0 col2\" >David</th>        <th class=\"col_heading level0 col3\" >Molly</th>        <th class=\"col_heading level0 col4\" >Sasha</th>        <th class=\"col_heading level0 col5\" >Tilly</th>    </tr></thead><tbody>\n",
       "                <tr>\n",
       "                        <th id=\"T_36797ffa_fcc5_11ea_acb7_54137993f690level0_row0\" class=\"row_heading level0 row0\" >CURRENT</th>\n",
       "                        <td id=\"T_36797ffa_fcc5_11ea_acb7_54137993f690row0_col0\" class=\"data row0 col0\" >£70.21</td>\n",
       "                        <td id=\"T_36797ffa_fcc5_11ea_acb7_54137993f690row0_col1\" class=\"data row0 col1\" >£61.32</td>\n",
       "                        <td id=\"T_36797ffa_fcc5_11ea_acb7_54137993f690row0_col2\" class=\"data row0 col2\" >£67.35</td>\n",
       "                        <td id=\"T_36797ffa_fcc5_11ea_acb7_54137993f690row0_col3\" class=\"data row0 col3\" >£16.09</td>\n",
       "                        <td id=\"T_36797ffa_fcc5_11ea_acb7_54137993f690row0_col4\" class=\"data row0 col4\" >£90.47</td>\n",
       "                        <td id=\"T_36797ffa_fcc5_11ea_acb7_54137993f690row0_col5\" class=\"data row0 col5\" >£4.26</td>\n",
       "            </tr>\n",
       "            <tr>\n",
       "                        <th id=\"T_36797ffa_fcc5_11ea_acb7_54137993f690level0_row1\" class=\"row_heading level0 row1\" >SAVINGS</th>\n",
       "                        <td id=\"T_36797ffa_fcc5_11ea_acb7_54137993f690row1_col0\" class=\"data row1 col0\" >£37.4</td>\n",
       "                        <td id=\"T_36797ffa_fcc5_11ea_acb7_54137993f690row1_col1\" class=\"data row1 col1\" >£32.68</td>\n",
       "                        <td id=\"T_36797ffa_fcc5_11ea_acb7_54137993f690row1_col2\" class=\"data row1 col2\" >£47.89</td>\n",
       "                        <td id=\"T_36797ffa_fcc5_11ea_acb7_54137993f690row1_col3\" class=\"data row1 col3\" >£24.13</td>\n",
       "                        <td id=\"T_36797ffa_fcc5_11ea_acb7_54137993f690row1_col4\" class=\"data row1 col4\" >£45.4</td>\n",
       "                        <td id=\"T_36797ffa_fcc5_11ea_acb7_54137993f690row1_col5\" class=\"data row1 col5\" >£30.96</td>\n",
       "            </tr>\n",
       "            <tr>\n",
       "                        <th id=\"T_36797ffa_fcc5_11ea_acb7_54137993f690level0_row2\" class=\"row_heading level0 row2\" >LISA</th>\n",
       "                        <td id=\"T_36797ffa_fcc5_11ea_acb7_54137993f690row2_col0\" class=\"data row2 col0\" >£17.59</td>\n",
       "                        <td id=\"T_36797ffa_fcc5_11ea_acb7_54137993f690row2_col1\" class=\"data row2 col1\" >£22.3</td>\n",
       "                        <td id=\"T_36797ffa_fcc5_11ea_acb7_54137993f690row2_col2\" class=\"data row2 col2\" >£46.34</td>\n",
       "                        <td id=\"T_36797ffa_fcc5_11ea_acb7_54137993f690row2_col3\" class=\"data row2 col3\" >£27.65</td>\n",
       "                        <td id=\"T_36797ffa_fcc5_11ea_acb7_54137993f690row2_col4\" class=\"data row2 col4\" >£24.59</td>\n",
       "                        <td id=\"T_36797ffa_fcc5_11ea_acb7_54137993f690row2_col5\" class=\"data row2 col5\" >£57.41</td>\n",
       "            </tr>\n",
       "    </tbody></table>"
      ],
      "text/plain": [
       "<pandas.io.formats.style.Styler at 0x1c72c91bac8>"
      ]
     },
     "metadata": {},
     "output_type": "display_data"
    },
    {
     "name": "stdout",
     "output_type": "stream",
     "text": [
      "Has Alice reached their savings goal? They wanted to have 65% of their total funds held in their savings accounts.\n",
      "True or False\n",
      "False\n",
      "Correct. Well done\n"
     ]
    }
   ],
   "source": [
    "reset_randoms()"
   ]
  },
  {
   "cell_type": "markdown",
   "metadata": {},
   "source": [
    "Welcome to the questions. There are six account holders, holding different types of accounts. The table below shows, the account holder, the type of account, and the sum within the account. Your first question is below."
   ]
  },
  {
   "cell_type": "code",
   "execution_count": null,
   "metadata": {},
   "outputs": [],
   "source": []
  }
 ],
 "metadata": {
  "kernelspec": {
   "display_name": "Python 3.7.7 64-bit ('myenv': conda)",
   "language": "python",
   "name": "python37764bitmyenvcondaa30dcf4747814228b7e6174bb179b9b7"
  },
  "language_info": {
   "codemirror_mode": {
    "name": "ipython",
    "version": 3
   },
   "file_extension": ".py",
   "mimetype": "text/x-python",
   "name": "python",
   "nbconvert_exporter": "python",
   "pygments_lexer": "ipython3",
   "version": "3.7.7"
  }
 },
 "nbformat": 4,
 "nbformat_minor": 4
}
