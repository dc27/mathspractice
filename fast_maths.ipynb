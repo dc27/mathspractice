{
 "cells": [
  {
   "cell_type": "code",
   "execution_count": 1,
   "metadata": {},
   "outputs": [],
   "source": [
    "import random\n",
    "import numpy as np\n",
    "import pandas as pd\n",
    "from IPython.display import clear_output"
   ]
  },
  {
   "cell_type": "code",
   "execution_count": 2,
   "metadata": {},
   "outputs": [],
   "source": [
    "def makeRand(dataframe):\n",
    "    rand_Col = random.choice(list(dataframe))\n",
    "    rand_index = random.choice(list(range(5)))\n",
    "    return (f\"{rand_Col}{rand_index+1}\", dataframe[rand_Col][rand_index])"
   ]
  },
  {
   "cell_type": "code",
   "execution_count": 3,
   "metadata": {},
   "outputs": [],
   "source": [
    "def makechoice(choice, number1, number2, number3, number4):\n",
    "    if choice == 1:\n",
    "        result = number1 * number2 * number3\n",
    "        result = round(result,2)\n",
    "        return \"multiply\", result\n",
    "    elif choice == 2:\n",
    "        result = number1 / number2\n",
    "        result = round(result,2)\n",
    "        return \"divide\", result\n",
    "    elif choice ==3:\n",
    "        result = number1 + number2 + number3\n",
    "        result = round(result,2)\n",
    "        return \"add\", result\n",
    "    elif choice ==4:\n",
    "        result = number1 * number4\n",
    "        result = round(result,2)\n",
    "        return \"convert\", result\n",
    "    elif choice ==5:\n",
    "        result = (number1 + number2 + number3)/3\n",
    "        result = round(result, 2)\n",
    "        return \"average\", result"
   ]
  },
  {
   "cell_type": "code",
   "execution_count": 22,
   "metadata": {},
   "outputs": [],
   "source": [
    "def reset_randoms():\n",
    "    values = np.random.random((10,10))\n",
    "    df = pd.DataFrame({\"A\": [round(values[0][i]*100,2) for i in range(10)],\n",
    "                   \"B\": [round(values[1][i]*10,2) for i in range(10)],\n",
    "                   \"C\": [round(values[2][i]*100,2) for i in range(10)],\n",
    "                   \"D\": [round(values[3][i]*10,2) for i in range(10)],\n",
    "                   \"E\": [round(values[4][i]*100,2) for i in range(10)],\n",
    "                   \"F\": [round(values[5][i]*100,2) for i in range(10)],\n",
    "                   \"G\": [round(values[6][i]*10,2) for i in range(10)],\n",
    "                   \"H\": [round(values[7][i]*100,2) for i in range(10)],\n",
    "                   \"I\": [round(values[8][i]*10,2) for i in range(10)],\n",
    "                   \"J\": [round(values[9][i]*100,2) for i in range(10)]},\n",
    "                   index=['1', '2', '3', '4', '5', '6', '7', '8', '9', '10'])\n",
    "    print(df)\n",
    "    conversion_ratio = np.random.random(1)*10\n",
    "    print(f\"converstion ratio = 1:{round(conversion_ratio[0],3)}\")\n",
    "    rand_data1 = makeRand(df)\n",
    "    rand_data2 = makeRand(df)\n",
    "    rand_data3 = makeRand(df)\n",
    "    action = makechoice((random.choice(list(range(1,6)))),rand_data1[1], rand_data2[1], rand_data3[1], round(conversion_ratio[0],3))\n",
    "    if action[0] == \"divide\":\n",
    "        message = f\"{action[0].title()} {rand_data1[0]} by {rand_data2[0]}\"\n",
    "    elif action[0] == \"convert\":\n",
    "        message = f\"{action[0].title()} {rand_data1[0]}\"\n",
    "    else:\n",
    "        message = f\"{action[0].title()} {rand_data1[0]}, {rand_data2[0]}, and {rand_data3[0]}\"\n",
    "\n",
    "    userin = input(message)\n",
    "    if float(userin) == action[1]:\n",
    "        print(\"correct\")\n",
    "    else:\n",
    "        print(f\"incorrect, it was: {action[1]}\")\n",
    "            "
   ]
  },
  {
   "cell_type": "code",
   "execution_count": null,
   "metadata": {},
   "outputs": [
    {
     "name": "stdout",
     "output_type": "stream",
     "text": [
      "        A     B      C     D      E      F     G      H     I      J\n",
      "1   80.72  2.73  70.78  7.89  78.85  64.28  2.09  58.61  8.60  85.15\n",
      "2   77.65  9.71  52.36  6.45  95.48  70.42  5.43  70.97  1.58  74.61\n",
      "3   92.02  5.87  32.18  4.46  10.76  16.08  4.95   3.38  0.91  54.01\n",
      "4    2.46  6.73  50.52  8.22  64.50  41.48  6.36  36.99  0.43  64.44\n",
      "5    1.88  5.42  46.12  3.05  68.56  12.21  1.96  24.03  1.81  88.32\n",
      "6   10.56  5.47  39.60  2.54  93.28  48.02  3.70  26.95  2.08  98.38\n",
      "7   51.04  3.62   6.39  0.58  69.02   3.48  0.23   7.84  3.03  70.62\n",
      "8   23.38  8.06  75.31  0.93  63.34   9.05  2.58   2.79  2.73  16.73\n",
      "9   48.90  4.07  77.41  6.09  54.21  84.55  7.89  68.35  7.47  64.68\n",
      "10   9.68  5.56   4.82  2.25  77.54  36.90  5.32  20.69  3.07  43.64\n",
      "converstion ratio = 1:4.01\n"
     ]
    }
   ],
   "source": [
    "reset_randoms()"
   ]
  },
  {
   "cell_type": "code",
   "execution_count": null,
   "metadata": {},
   "outputs": [],
   "source": []
  },
  {
   "cell_type": "code",
   "execution_count": null,
   "metadata": {},
   "outputs": [],
   "source": []
  }
 ],
 "metadata": {
  "kernelspec": {
   "display_name": "Python 3.7.7 64-bit ('myenv': conda)",
   "language": "python",
   "name": "python37764bitmyenvcondaa30dcf4747814228b7e6174bb179b9b7"
  },
  "language_info": {
   "codemirror_mode": {
    "name": "ipython",
    "version": 3
   },
   "file_extension": ".py",
   "mimetype": "text/x-python",
   "name": "python",
   "nbconvert_exporter": "python",
   "pygments_lexer": "ipython3",
   "version": "3.7.7"
  }
 },
 "nbformat": 4,
 "nbformat_minor": 4
}
